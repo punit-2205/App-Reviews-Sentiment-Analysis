{
 "cells": [
  {
   "cell_type": "code",
   "execution_count": null,
   "id": "ca75d97d",
   "metadata": {},
   "outputs": [],
   "source": [
    "#Import required libraries\n",
    "import pandas as pd\n",
    "import matplotlib.pyplot as plt\n",
    "from collections import Counter\n",
    "import re\n",
    "\n",
    "# Load the CSV data\n",
    "df = pd.read_csv('reviews.csv')\n",
    "\n",
    "# Confirm data loading\n",
    "print(\"Data loaded successfully.\")\n",
    "print(df.head())"
   ]
  },
  {
   "cell_type": "code",
   "execution_count": null,
   "id": "6ce75d4e",
   "metadata": {},
   "outputs": [],
   "source": [
    "# Cleaning data\n",
    "df['score'] = pd.to_numeric(df['score'], errors='coerce')\n",
    "df['at'] = pd.to_datetime(df['at'], errors='coerce')\n",
    "df['content'] = df['content'].fillna('').astype(str)\n",
    "\n",
    "print(\"Data cleaned successfully.\")\n",
    "print(df.dtypes)\n",
    "print(\"\\nMissing values:\\n\", df.isnull().sum())"
   ]
  },
  {
   "cell_type": "code",
   "execution_count": null,
   "id": "c7f9405a",
   "metadata": {},
   "outputs": [],
   "source": [
    "# Summary statistics\n",
    "avg_score = df['score'].mean()\n",
    "score_counts = df['score'].value_counts().sort_index()\n",
    "\n",
    "print(f\"Average Score: {avg_score:.2f}\")\n",
    "print(\"\\nScore Distribution:\")\n",
    "print(score_counts)"
   ]
  },
  {
   "cell_type": "code",
   "execution_count": null,
   "id": "990ea737",
   "metadata": {
    "vscode": {
     "languageId": "plaintext"
    }
   },
   "outputs": [],
   "source": [
    "# Step 1: Filter reviews with score less than or equal to 2\n",
    "negative_reviews = df[df['score'] <= 2]['content']\n",
    "\n",
    "# Step 2: Combine all text into one string and convert to lowercase\n",
    "words = ' '.join(negative_reviews).lower()\n",
    "\n",
    "# Step 3: Remove punctuation and split text into words\n",
    "words = re.sub(r\"[^\\w\\s]\", '', words).split()\n",
    "\n",
    "# Step 4: Count the top 20 most common words\n",
    "from collections import Counter\n",
    "common_words = Counter(words).most_common(20)\n",
    "\n",
    "# Step 5: Display results\n",
    "print(\"Top 20 Common Words in Negative Reviews (Score ≤ 2):\")\n",
    "for word, count in common_words:\n",
    "    print(f\"{word}: {count}\")"
   ]
  },
  {
   "cell_type": "code",
   "execution_count": null,
   "id": "36cacb10",
   "metadata": {
    "vscode": {
     "languageId": "plaintext"
    }
   },
   "outputs": [],
   "source": [
    "mport matplotlib.pyplot as plt\n",
    "\n",
    "# Step 1: Set the figure size\n",
    "plt.figure(figsize=(8, 6))\n",
    "\n",
    "# Step 2: Plot the distribution of review scores\n",
    "score_counts.plot(kind='bar', color='skyblue')\n",
    "\n",
    "# Step 3: Add chart title and labels\n",
    "plt.title('Distribution of Review Scores')\n",
    "plt.xlabel('Score')\n",
    "plt.ylabel('Number of Reviews')\n",
    "\n",
    "# Step 4: Display grid and layout\n",
    "plt.grid(True)\n",
    "plt.tight_layout()\n",
    "\n",
    "# Step 5: Show the plot\n",
    "plt.show()"
   ]
  }
 ],
 "metadata": {
  "language_info": {
   "name": "python"
  }
 },
 "nbformat": 4,
 "nbformat_minor": 5
}
